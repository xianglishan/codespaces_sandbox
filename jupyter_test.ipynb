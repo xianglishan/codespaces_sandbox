{
 "cells": [
  {
   "cell_type": "markdown",
   "metadata": {},
   "source": [
    "# test codespaces"
   ]
  },
  {
   "cell_type": "code",
   "execution_count": 3,
   "metadata": {},
   "outputs": [
    {
     "name": "stdout",
     "output_type": "stream",
     "text": [
      "Hello World\n"
     ]
    }
   ],
   "source": [
    "print(\"Hello World\")"
   ]
  },
  {
   "cell_type": "markdown",
   "metadata": {},
   "source": [
    "# env\n",
    "\n",
    "環境変数のセッティングをする。\n",
    "\n",
    "- githubアカウントで共通のsecretはsettingページから行う\n",
    "\n",
    "- 当該codespaceアプリ内のみのsecretは以下でセット。リロードすると設定されてる\n",
    "```bash\n",
    "gh secret set --app codespace SECRET\n",
    "```"
   ]
  },
  {
   "cell_type": "markdown",
   "metadata": {},
   "source": [
    "いれた結果を見てみると⬇️"
   ]
  },
  {
   "cell_type": "code",
   "execution_count": 4,
   "metadata": {},
   "outputs": [
    {
     "name": "stdout",
     "output_type": "stream",
     "text": [
      "SECRET=secret_test\n"
     ]
    }
   ],
   "source": [
    "!env | grep -e \"^SECRET=\""
   ]
  },
  {
   "cell_type": "code",
   "execution_count": 1,
   "metadata": {},
   "outputs": [
    {
     "name": "stdout",
     "output_type": "stream",
     "text": [
      "\u001b[0;2;4;37mNAME  \u001b[0m  \u001b[0;2;4;37mUPDATED         \u001b[0m\n",
      "SECRET  about 4 days ago\n"
     ]
    }
   ],
   "source": [
    "!gh secret list --app codespaces"
   ]
  },
  {
   "cell_type": "markdown",
   "metadata": {},
   "source": [
    "## AWS 認証"
   ]
  },
  {
   "cell_type": "code",
   "execution_count": null,
   "metadata": {},
   "outputs": [],
   "source": [
    "%%bash\n",
    "#!/bin/bash\n",
    "\n",
    "# 1. iam identity centerに設定しておく\n",
    "# 今回はIdentity Center ディレクトリにユーザー作って、許可セットとアカくっつけた\n",
    "\n",
    "# 2. aws-cli v2をインストール\n",
    "pip uninstall awscli\n",
    "pip install awscli\n",
    "\n",
    "# 3. ~/.aws/configにsso用のやつを書いておく\n",
    "cat << EOF > ~/.aws/config\n",
    "[default]\n",
    "sso_session = codespace_sso_session\n",
    "sso_account_id = ${AWS_ACCOUNT_ID}\n",
    "sso_role_name = AdministratorAccess\n",
    "region = ap-northeast-1\n",
    "output = json\n",
    "[sso-session codespace_sso_session]\n",
    "sso_start_url = ${AWS_SSO_START_URL}\n",
    "sso_region = ap-northeast-1\n",
    "sso_registration_scopes = sso:account:access\n",
    "EOF\n",
    "\n",
    "# 4. ssoログインする\n",
    "aws sso login"
   ]
  },
  {
   "cell_type": "code",
   "execution_count": 5,
   "metadata": {},
   "outputs": [
    {
     "name": "stdout",
     "output_type": "stream",
     "text": [
      "aws-cli/2.15.6 Python/3.11.6 Linux/6.2.0-1018-azure exe/x86_64.ubuntu.20 prompt/off\n"
     ]
    }
   ],
   "source": [
    "!aws --version"
   ]
  }
 ],
 "metadata": {
  "kernelspec": {
   "display_name": "Python 3",
   "language": "python",
   "name": "python3"
  },
  "language_info": {
   "codemirror_mode": {
    "name": "ipython",
    "version": 3
   },
   "file_extension": ".py",
   "mimetype": "text/x-python",
   "name": "python",
   "nbconvert_exporter": "python",
   "pygments_lexer": "ipython3",
   "version": "3.10.13"
  }
 },
 "nbformat": 4,
 "nbformat_minor": 2
}
