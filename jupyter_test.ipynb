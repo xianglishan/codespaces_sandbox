{
 "cells": [
  {
   "cell_type": "markdown",
   "metadata": {},
   "source": [
    "# test codespaces"
   ]
  },
  {
   "cell_type": "code",
   "execution_count": 26,
   "metadata": {},
   "outputs": [
    {
     "name": "stdout",
     "output_type": "stream",
     "text": [
      "Hello World\n"
     ]
    }
   ],
   "source": [
    "print(\"Hello World\")"
   ]
  },
  {
   "cell_type": "markdown",
   "metadata": {},
   "source": [
    "# env\n",
    "\n",
    "環境変数のセッティングをする。\n",
    "\n",
    "- githubアカウントで共通のsecretはsettingページから行う\n",
    "\n",
    "- 当該codespaceアプリ内のみのsecretは以下でセット。リロードすると設定されてる\n",
    "```bash\n",
    "gh secret set --app codespaces SECRET\n",
    "```"
   ]
  },
  {
   "cell_type": "markdown",
   "metadata": {},
   "source": [
    "いれた結果を見てみると⬇️"
   ]
  },
  {
   "cell_type": "code",
   "execution_count": 27,
   "metadata": {},
   "outputs": [
    {
     "name": "stdout",
     "output_type": "stream",
     "text": [
      "SECRET=secret_test\n"
     ]
    }
   ],
   "source": [
    "!env | grep -e \"^SECRET=\""
   ]
  },
  {
   "cell_type": "code",
   "execution_count": 28,
   "metadata": {},
   "outputs": [
    {
     "name": "stdout",
     "output_type": "stream",
     "text": [
      "\u001b[0;2;4;37mNAME  \u001b[0m  \u001b[0;2;4;37mUPDATED          \u001b[0m\n",
      "SECRET  about 2 hours ago\n"
     ]
    }
   ],
   "source": [
    "!gh secret list --app codespaces"
   ]
  },
  {
   "cell_type": "markdown",
   "metadata": {},
   "source": [
    "## AWS 認証"
   ]
  },
  {
   "cell_type": "code",
   "execution_count": 39,
   "metadata": {},
   "outputs": [
    {
     "name": "stdout",
     "output_type": "stream",
     "text": [
      "Overwriting ./aws_sso.sh\n"
     ]
    }
   ],
   "source": [
    "%%writefile ./aws_sso.sh\n",
    "#!/bin/bash\n",
    "\n",
    "# 1. iam identity centerに設定しておく\n",
    "# 今回はIdentity Center ディレクトリにユーザー作って、許可セットとアカくっつけた\n",
    "\n",
    "# 2. aws-cli v2をインストール\n",
    "curl \"https://awscli.amazonaws.com/awscli-exe-linux-x86_64.zip\" -o \"../awscliv2.zip\"\n",
    "unzip ../awscliv2.zip -d ..\n",
    "sudo ../aws/install\n",
    "\n",
    "# 3. ~/.aws/configにsso用のやつを書いておく\n",
    "touch ~/.aws/config\n",
    "cat << EOF > ~/.aws/config\n",
    "[default]\n",
    "sso_session = codespace_sso_session\n",
    "sso_account_id = ${AWS_ACCOUNT_ID}\n",
    "sso_role_name = AdministratorAccess\n",
    "region = ap-northeast-1\n",
    "output = json\n",
    "[sso-session codespace_sso_session]\n",
    "sso_start_url = ${AWS_SSO_START_URL}\n",
    "sso_region = ap-northeast-1\n",
    "sso_registration_scopes = sso:account:access\n",
    "EOF\n",
    "\n",
    "\n",
    "# 4. ssoログインする\n",
    "aws sso login"
   ]
  },
  {
   "cell_type": "code",
   "execution_count": 40,
   "metadata": {},
   "outputs": [
    {
     "name": "stdout",
     "output_type": "stream",
     "text": [
      "  % Total    % Received % Xferd  Average Speed   Time    Time     Time  Current\n",
      "                                 Dload  Upload   Total   Spent    Left  Speed\n",
      "100 57.1M  100 57.1M    0     0   177M      0 --:--:-- --:--:-- --:--:--  177M\n",
      "Archive:  ../awscliv2.zip\n",
      "replace ../aws/README.md? [y]es, [n]o, [A]ll, [N]one, [r]ename: ^C\n"
     ]
    }
   ],
   "source": [
    "!bash aws_sso.sh"
   ]
  },
  {
   "cell_type": "code",
   "execution_count": 42,
   "metadata": {},
   "outputs": [
    {
     "name": "stdout",
     "output_type": "stream",
     "text": [
      "2023-04-24 08:31:11 faiss-bucket-for-linebot\n"
     ]
    }
   ],
   "source": [
    "!aws s3 ls"
   ]
  }
 ],
 "metadata": {
  "kernelspec": {
   "display_name": "Python 3",
   "language": "python",
   "name": "python3"
  },
  "language_info": {
   "codemirror_mode": {
    "name": "ipython",
    "version": 3
   },
   "file_extension": ".py",
   "mimetype": "text/x-python",
   "name": "python",
   "nbconvert_exporter": "python",
   "pygments_lexer": "ipython3",
   "version": "3.10.13"
  }
 },
 "nbformat": 4,
 "nbformat_minor": 2
}
