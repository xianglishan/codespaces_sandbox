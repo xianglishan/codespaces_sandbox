{
 "cells": [
  {
   "cell_type": "markdown",
   "metadata": {},
   "source": [
    "## aws sso ログイン"
   ]
  },
  {
   "cell_type": "code",
   "execution_count": null,
   "metadata": {},
   "outputs": [],
   "source": [
    "# !bash ../aws_sso.sh"
   ]
  },
  {
   "cell_type": "code",
   "execution_count": 4,
   "metadata": {},
   "outputs": [],
   "source": [
    "# !aws sts get-caller-identity"
   ]
  },
  {
   "cell_type": "markdown",
   "metadata": {},
   "source": [
    "## signate api key をセットアップ"
   ]
  },
  {
   "cell_type": "code",
   "execution_count": 2,
   "metadata": {},
   "outputs": [],
   "source": [
    "import os\n",
    "SIGNATE_API_KEY = os.getenv('SIGNATE_API_KEY')\n",
    "json_text = f'{{\"api-token\":\"{SIGNATE_API_KEY}\"}}'\n",
    "\n",
    "home_directory = os.path.expanduser(\"~\")\n",
    "\n",
    "if not os.path.exists(os.path.join(home_directory, '.signate')):\n",
    "    os.makedirs(os.path.join(home_directory, '.signate'))\n",
    "with open(os.path.join(home_directory, '.signate/signate.json'), 'w')as f:\n",
    "    f.write(json_text)"
   ]
  },
  {
   "cell_type": "markdown",
   "metadata": {},
   "source": [
    "## signate cli でファイルダウンロード"
   ]
  },
  {
   "cell_type": "code",
   "execution_count": 9,
   "metadata": {},
   "outputs": [
    {
     "name": "stdout",
     "output_type": "stream",
     "text": [
      "  fileId  name                   title                      size  updated_at\n",
      "--------  ---------------------  ----------------------  -------  -------------------\n",
      "    3877  train.csv              学習用データ            4916051  2024-01-13 16:04:02\n",
      "    3878  test.csv               評価用データ            4842723  2024-01-13 16:05:59\n",
      "    3879  sample_submission.csv  投稿用サンプルファイル   338464  2024-01-13 16:15:39\n"
     ]
    }
   ],
   "source": [
    "!signate files --competition-id=1337"
   ]
  },
  {
   "cell_type": "code",
   "execution_count": 11,
   "metadata": {},
   "outputs": [
    {
     "name": "stdout",
     "output_type": "stream",
     "text": [
      "sample_submission.csv\n",
      "100% [........................................................] 338464 / 338464\n",
      "test.csv\n",
      "100% [......................................................] 4842723 / 4842723\n",
      "train.csv\n",
      "100% [......................................................] 4916051 / 4916051\n",
      "\u001b[32m\n",
      "Download completed.\u001b[0m\n",
      "sample_submission.csv  test.csv  train.csv\n"
     ]
    }
   ],
   "source": [
    "!mkdir ../signate\n",
    "!signate download --competition-id=1337 -p ../signate/\n",
    "!ls ../signate"
   ]
  },
  {
   "cell_type": "markdown",
   "metadata": {},
   "source": [
    "## s3バケット作成"
   ]
  },
  {
   "cell_type": "code",
   "execution_count": 19,
   "metadata": {},
   "outputs": [
    {
     "name": "stdout",
     "output_type": "stream",
     "text": [
      "make_bucket: xianglishan-sandbox\n"
     ]
    }
   ],
   "source": [
    "!aws s3 mb s3://xianglishan-sandbox"
   ]
  },
  {
   "cell_type": "markdown",
   "metadata": {},
   "source": [
    "## s3に置きに行く"
   ]
  },
  {
   "cell_type": "code",
   "execution_count": 26,
   "metadata": {},
   "outputs": [
    {
     "name": "stdout",
     "output_type": "stream",
     "text": [
      "upload: ../signate/sample_submission.csv to s3://xianglishan-sandbox/signate-fuda2/sample_submission.csv\n",
      "upload: ../signate/test.csv to s3://xianglishan-sandbox/signate-fuda2/test.csv\n",
      "upload: ../signate/train.csv to s3://xianglishan-sandbox/signate-fuda2/train.csv\n"
     ]
    }
   ],
   "source": [
    "!aws s3 cp ../signate/ s3://xianglishan-sandbox/signate-fuda2/ --recursive "
   ]
  },
  {
   "cell_type": "code",
   "execution_count": 30,
   "metadata": {},
   "outputs": [
    {
     "name": "stdout",
     "output_type": "stream",
     "text": [
      "2024-01-22 11:59:03     338464 signate-fuda2/sample_submission.csv\n",
      "2024-01-22 11:59:03    4842723 signate-fuda2/test.csv\n",
      "2024-01-22 11:59:03    4916051 signate-fuda2/train.csv\n"
     ]
    }
   ],
   "source": [
    "!aws s3 ls s3://xianglishan-sandbox/ --recursive"
   ]
  },
  {
   "cell_type": "code",
   "execution_count": null,
   "metadata": {},
   "outputs": [],
   "source": []
  }
 ],
 "metadata": {
  "kernelspec": {
   "display_name": "Python 3",
   "language": "python",
   "name": "python3"
  },
  "language_info": {
   "codemirror_mode": {
    "name": "ipython",
    "version": 3
   },
   "file_extension": ".py",
   "mimetype": "text/x-python",
   "name": "python",
   "nbconvert_exporter": "python",
   "pygments_lexer": "ipython3",
   "version": "3.10.13"
  }
 },
 "nbformat": 4,
 "nbformat_minor": 2
}
